{
  "cells": [
    {
      "cell_type": "markdown",
      "metadata": {
        "id": "view-in-github",
        "colab_type": "text"
      },
      "source": [
        "<a href=\"https://colab.research.google.com/github/SiddharthTiwarids23/project-1/blob/main/Generating_keywords.ipynb\" target=\"_parent\"><img src=\"https://colab.research.google.com/assets/colab-badge.svg\" alt=\"Open In Colab\"/></a>"
      ]
    },
    {
      "source": [
        "## 1. The brief\n",
        "<p>Imagine working for a digital marketing agency, and the agency is approached by a massive online retailer of furniture. They want to test our skills at creating large campaigns for all of their website. We are tasked with creating a prototype set of keywords for search campaigns for their sofas section. The client says that they want us to generate keywords for the following products: </p>\n",
        "<ul>\n",
        "<li>sofas</li>\n",
        "<li>convertible sofas</li>\n",
        "<li>love seats</li>\n",
        "<li>recliners</li>\n",
        "<li>sofa beds</li>\n",
        "</ul>\n",
        "<p><strong>The brief</strong>: The client is generally a low-cost retailer, offering many promotions and discounts. We will need to focus on such keywords. We will also need to move away from luxury keywords and topics, as we are targeting price-sensitive customers. Because we are going to be tight on budget, it would be good to focus on a tightly targeted set of keywords and make sure they are all set to exact and phrase match.</p>\n",
        "<p>Based on the brief above we will first need to generate a list of words, that together with the products given above would make for good keywords. Here are some examples:</p>\n",
        "<ul>\n",
        "<li>Products: sofas, recliners</li>\n",
        "<li>Words: buy, prices</li>\n",
        "</ul>\n",
        "<p>The resulting keywords: 'buy sofas', 'sofas buy', 'buy recliners', 'recliners buy',\n",
        "          'prices sofas', 'sofas prices', 'prices recliners', 'recliners prices'.</p>\n",
        "<p>As a final result, we want to have a DataFrame that looks like this: </p>\n",
        "<table>\n",
        "<thead>\n",
        "<tr>\n",
        "<th>Campaign</th>\n",
        "<th>Ad Group</th>\n",
        "<th>Keyword</th>\n",
        "<th>Criterion Type</th>\n",
        "</tr>\n",
        "</thead>\n",
        "<tbody>\n",
        "<tr>\n",
        "<td>Campaign1</td>\n",
        "<td>AdGroup_1</td>\n",
        "<td>keyword 1a</td>\n",
        "<td>Exact</td>\n",
        "</tr>\n",
        "<tr>\n",
        "<td>Campaign1</td>\n",
        "<td>AdGroup_1</td>\n",
        "<td>keyword 1a</td>\n",
        "<td>Phrase</td>\n",
        "</tr>\n",
        "<tr>\n",
        "<td>Campaign1</td>\n",
        "<td>AdGroup_1</td>\n",
        "<td>keyword 1b</td>\n",
        "<td>Exact</td>\n",
        "</tr>\n",
        "<tr>\n",
        "<td>Campaign1</td>\n",
        "<td>AdGroup_1</td>\n",
        "<td>keyword 1b</td>\n",
        "<td>Phrase</td>\n",
        "</tr>\n",
        "<tr>\n",
        "<td>Campaign1</td>\n",
        "<td>AdGroup_2</td>\n",
        "<td>keyword 2a</td>\n",
        "<td>Exact</td>\n",
        "</tr>\n",
        "<tr>\n",
        "<td>Campaign1</td>\n",
        "<td>AdGroup_2</td>\n",
        "<td>keyword 2a</td>\n",
        "<td>Phrase</td>\n",
        "</tr>\n",
        "</tbody>\n",
        "</table>\n",
        "<p>The first step is to come up with a list of words that users might use to express their desire in buying low-cost sofas.</p>"
      ],
      "metadata": {
        "run_control": {
          "frozen": true
        },
        "dc": {
          "key": "4"
        },
        "tags": [
          "context"
        ],
        "id": "d70a6f49-eea0-46c8-8559-688a3c2ec182"
      },
      "id": "d70a6f49-eea0-46c8-8559-688a3c2ec182",
      "cell_type": "markdown"
    },
    {
      "source": [
        "# List of words to pair with products\n",
        "words = ['buy', 'price', 'discount', 'promotion', 'shop', 'sale','budget','cheap']\n",
        "\n",
        "# Print list of words\n",
        "print(words)\n"
      ],
      "metadata": {
        "trusted": true,
        "dc": {
          "key": "4"
        },
        "tags": [
          "sample_code"
        ],
        "outputsMetadata": {
          "0": {
            "height": 37,
            "type": "stream"
          }
        },
        "colab": {
          "base_uri": "https://localhost:8080/"
        },
        "id": "53247303-027a-4461-9c77-5cc433e04ecb",
        "outputId": "dbffbdd7-d4c1-4218-873a-fdf03b3a3c1a"
      },
      "id": "53247303-027a-4461-9c77-5cc433e04ecb",
      "cell_type": "code",
      "execution_count": 1,
      "outputs": [
        {
          "output_type": "stream",
          "name": "stdout",
          "text": [
            "['buy', 'price', 'discount', 'promotion', 'shop', 'sale', 'budget', 'cheap']\n"
          ]
        }
      ]
    },
    {
      "source": [
        "## 2. Combine the words with the product names\n",
        "<p>Imagining all the possible combinations of keywords can be stressful! But not for us, because we are keyword ninjas! We know how to translate campaign briefs into Python data structures and can imagine the resulting DataFrames that we need to create.</p>\n",
        "<p>Now that we have brainstormed the words that work well with the brief that we received, it is now time to combine them with the product names to generate meaningful search keywords. We want to combine every word with every product once before, and once after, as seen in the example above.</p>\n",
        "<p>As a quick reminder, for the product 'recliners' and the words 'buy' and 'price' for example, we would want to generate the following combinations: </p>\n",
        "<p>buy recliners<br>\n",
        "recliners buy<br>\n",
        "price recliners<br>\n",
        "recliners price<br>\n",
        "…  </p>\n",
        "<p>and so on for all the words and products that we have.</p>"
      ],
      "metadata": {
        "run_control": {
          "frozen": true
        },
        "dc": {
          "key": "11"
        },
        "tags": [
          "context"
        ],
        "id": "0637acd0-eb97-43d1-96c7-98253d2a4927"
      },
      "id": "0637acd0-eb97-43d1-96c7-98253d2a4927",
      "cell_type": "markdown"
    },
    {
      "source": [
        "products = ['sofas', 'convertible sofas', 'love seats', 'recliners', 'sofa beds']\n",
        "\n",
        "# Create an empty list\n",
        "keywords_list = []\n",
        "\n",
        "# Loop through products\n",
        "for product in products:\n",
        "    # Loop through words\n",
        "    for word in ['buy', 'price', 'discount', 'promotion', 'shop', 'sale','budget','cheap']:\n",
        "        # Append combinations\n",
        "        keywords_list.append([product, product + ' ' + word])\n",
        "\n",
        "# Inspect keyword list\n",
        "from pprint import pprint\n",
        "pprint(keywords_list)"
      ],
      "metadata": {
        "trusted": true,
        "dc": {
          "key": "11"
        },
        "tags": [
          "sample_code"
        ],
        "outputsMetadata": {
          "0": {
            "height": 570,
            "type": "stream"
          }
        },
        "colab": {
          "base_uri": "https://localhost:8080/"
        },
        "id": "34099e37-0199-4679-aca0-7128f39c2b31",
        "outputId": "f14bdb89-4658-4060-c5d2-66e4167109cf"
      },
      "id": "34099e37-0199-4679-aca0-7128f39c2b31",
      "cell_type": "code",
      "execution_count": 3,
      "outputs": [
        {
          "output_type": "stream",
          "name": "stdout",
          "text": [
            "[['sofas', 'sofas buy'],\n",
            " ['sofas', 'sofas price'],\n",
            " ['sofas', 'sofas discount'],\n",
            " ['sofas', 'sofas promotion'],\n",
            " ['sofas', 'sofas shop'],\n",
            " ['sofas', 'sofas sale'],\n",
            " ['sofas', 'sofas budget'],\n",
            " ['sofas', 'sofas cheap'],\n",
            " ['convertible sofas', 'convertible sofas buy'],\n",
            " ['convertible sofas', 'convertible sofas price'],\n",
            " ['convertible sofas', 'convertible sofas discount'],\n",
            " ['convertible sofas', 'convertible sofas promotion'],\n",
            " ['convertible sofas', 'convertible sofas shop'],\n",
            " ['convertible sofas', 'convertible sofas sale'],\n",
            " ['convertible sofas', 'convertible sofas budget'],\n",
            " ['convertible sofas', 'convertible sofas cheap'],\n",
            " ['love seats', 'love seats buy'],\n",
            " ['love seats', 'love seats price'],\n",
            " ['love seats', 'love seats discount'],\n",
            " ['love seats', 'love seats promotion'],\n",
            " ['love seats', 'love seats shop'],\n",
            " ['love seats', 'love seats sale'],\n",
            " ['love seats', 'love seats budget'],\n",
            " ['love seats', 'love seats cheap'],\n",
            " ['recliners', 'recliners buy'],\n",
            " ['recliners', 'recliners price'],\n",
            " ['recliners', 'recliners discount'],\n",
            " ['recliners', 'recliners promotion'],\n",
            " ['recliners', 'recliners shop'],\n",
            " ['recliners', 'recliners sale'],\n",
            " ['recliners', 'recliners budget'],\n",
            " ['recliners', 'recliners cheap'],\n",
            " ['sofa beds', 'sofa beds buy'],\n",
            " ['sofa beds', 'sofa beds price'],\n",
            " ['sofa beds', 'sofa beds discount'],\n",
            " ['sofa beds', 'sofa beds promotion'],\n",
            " ['sofa beds', 'sofa beds shop'],\n",
            " ['sofa beds', 'sofa beds sale'],\n",
            " ['sofa beds', 'sofa beds budget'],\n",
            " ['sofa beds', 'sofa beds cheap']]\n"
          ]
        }
      ]
    },
    {
      "source": [
        "## 3. Convert the list of lists into a DataFrame\n",
        "<p>Now we want to convert this list of lists into a DataFrame so we can easily manipulate it and manage the final output.</p>"
      ],
      "metadata": {
        "run_control": {
          "frozen": true
        },
        "dc": {
          "key": "18"
        },
        "tags": [
          "context"
        ],
        "id": "df621666-1e79-4047-a220-2fae55732c4c"
      },
      "id": "df621666-1e79-4047-a220-2fae55732c4c",
      "cell_type": "markdown"
    },
    {
      "source": [
        "# Load library\n",
        "import pandas as pd\n",
        "\n",
        "# Create a DataFrame from list\n",
        "keywords_df = pd.DataFrame.from_records(keywords_list)\n",
        "\n",
        "# Print the keywords DataFrame to explore it\n",
        "print(keywords_df.head())\n"
      ],
      "metadata": {
        "trusted": true,
        "dc": {
          "key": "18"
        },
        "tags": [
          "sample_code"
        ],
        "outputsMetadata": {
          "0": {
            "height": 137,
            "type": "stream"
          }
        },
        "colab": {
          "base_uri": "https://localhost:8080/"
        },
        "id": "0268d627-3838-4617-b09b-6cef06a1c530",
        "outputId": "4f4b17fb-adba-4e15-ad1d-b7c98c4b805c"
      },
      "id": "0268d627-3838-4617-b09b-6cef06a1c530",
      "cell_type": "code",
      "execution_count": 4,
      "outputs": [
        {
          "output_type": "stream",
          "name": "stdout",
          "text": [
            "       0                1\n",
            "0  sofas        sofas buy\n",
            "1  sofas      sofas price\n",
            "2  sofas   sofas discount\n",
            "3  sofas  sofas promotion\n",
            "4  sofas       sofas shop\n"
          ]
        }
      ]
    },
    {
      "source": [
        "## 4. Rename the columns of the DataFrame\n",
        "<p>Before we can upload this table of keywords, we will need to give the columns meaningful names. If we inspect the DataFrame we just created above, we can see that the columns are currently named <code>0</code> and <code>1</code>. <code>Ad Group</code> (example: \"sofas\") and <code>Keyword</code> (example: \"sofas buy\") are much more appropriate names.</p>"
      ],
      "metadata": {
        "run_control": {
          "frozen": true
        },
        "dc": {
          "key": "25"
        },
        "tags": [
          "context"
        ],
        "id": "fa5ad73e-7777-4eef-b54c-d88a947e3b1d"
      },
      "id": "fa5ad73e-7777-4eef-b54c-d88a947e3b1d",
      "cell_type": "markdown"
    },
    {
      "source": [
        "# Rename the columns of the DataFrame\n",
        "keywords_df = pd.DataFrame.from_records(keywords_list, columns=['Ad Group', 'Keyword'])"
      ],
      "metadata": {
        "trusted": true,
        "collapsed": true,
        "dc": {
          "key": "25"
        },
        "tags": [
          "sample_code"
        ],
        "jupyter": {
          "outputs_hidden": true
        },
        "id": "8a6109ce-5338-488a-b906-2d37da7f488e"
      },
      "id": "8a6109ce-5338-488a-b906-2d37da7f488e",
      "cell_type": "code",
      "execution_count": 5,
      "outputs": []
    },
    {
      "source": [
        "## 5. Add a campaign column\n",
        "<p>Now we need to add some additional information to our DataFrame.\n",
        "We need a new column called <code>Campaign</code> for the campaign name. We want campaign names to be descriptive of our group of keywords and products, so let's call this campaign 'SEM_Sofas'.</p>"
      ],
      "metadata": {
        "run_control": {
          "frozen": true
        },
        "dc": {
          "key": "32"
        },
        "tags": [
          "context"
        ],
        "id": "ad16e40f-af6c-43d3-8035-71cd113abd2a"
      },
      "id": "ad16e40f-af6c-43d3-8035-71cd113abd2a",
      "cell_type": "markdown"
    },
    {
      "source": [
        "# Add a campaign column\n",
        "keywords_df['Campaign'] = 'SEM_Sofas'\n"
      ],
      "metadata": {
        "trusted": true,
        "dc": {
          "key": "32"
        },
        "tags": [
          "sample_code"
        ],
        "id": "b38fd745-5c76-4263-8fc9-4c92cf05ab84"
      },
      "id": "b38fd745-5c76-4263-8fc9-4c92cf05ab84",
      "cell_type": "code",
      "execution_count": 6,
      "outputs": []
    },
    {
      "source": [
        "keywords_df"
      ],
      "metadata": {
        "trusted": true,
        "dc": {
          "key": "32"
        },
        "colab": {
          "base_uri": "https://localhost:8080/",
          "height": 1000
        },
        "id": "f8bd7fa5-bc11-4517-b0cd-c91399c0e66d",
        "outputId": "eb4934c8-6669-4e6e-f4aa-86701a5cca18"
      },
      "id": "f8bd7fa5-bc11-4517-b0cd-c91399c0e66d",
      "cell_type": "code",
      "execution_count": 7,
      "outputs": [
        {
          "output_type": "execute_result",
          "data": {
            "text/plain": [
              "             Ad Group                      Keyword   Campaign\n",
              "0               sofas                    sofas buy  SEM_Sofas\n",
              "1               sofas                  sofas price  SEM_Sofas\n",
              "2               sofas               sofas discount  SEM_Sofas\n",
              "3               sofas              sofas promotion  SEM_Sofas\n",
              "4               sofas                   sofas shop  SEM_Sofas\n",
              "5               sofas                   sofas sale  SEM_Sofas\n",
              "6               sofas                 sofas budget  SEM_Sofas\n",
              "7               sofas                  sofas cheap  SEM_Sofas\n",
              "8   convertible sofas        convertible sofas buy  SEM_Sofas\n",
              "9   convertible sofas      convertible sofas price  SEM_Sofas\n",
              "10  convertible sofas   convertible sofas discount  SEM_Sofas\n",
              "11  convertible sofas  convertible sofas promotion  SEM_Sofas\n",
              "12  convertible sofas       convertible sofas shop  SEM_Sofas\n",
              "13  convertible sofas       convertible sofas sale  SEM_Sofas\n",
              "14  convertible sofas     convertible sofas budget  SEM_Sofas\n",
              "15  convertible sofas      convertible sofas cheap  SEM_Sofas\n",
              "16         love seats               love seats buy  SEM_Sofas\n",
              "17         love seats             love seats price  SEM_Sofas\n",
              "18         love seats          love seats discount  SEM_Sofas\n",
              "19         love seats         love seats promotion  SEM_Sofas\n",
              "20         love seats              love seats shop  SEM_Sofas\n",
              "21         love seats              love seats sale  SEM_Sofas\n",
              "22         love seats            love seats budget  SEM_Sofas\n",
              "23         love seats             love seats cheap  SEM_Sofas\n",
              "24          recliners                recliners buy  SEM_Sofas\n",
              "25          recliners              recliners price  SEM_Sofas\n",
              "26          recliners           recliners discount  SEM_Sofas\n",
              "27          recliners          recliners promotion  SEM_Sofas\n",
              "28          recliners               recliners shop  SEM_Sofas\n",
              "29          recliners               recliners sale  SEM_Sofas\n",
              "30          recliners             recliners budget  SEM_Sofas\n",
              "31          recliners              recliners cheap  SEM_Sofas\n",
              "32          sofa beds                sofa beds buy  SEM_Sofas\n",
              "33          sofa beds              sofa beds price  SEM_Sofas\n",
              "34          sofa beds           sofa beds discount  SEM_Sofas\n",
              "35          sofa beds          sofa beds promotion  SEM_Sofas\n",
              "36          sofa beds               sofa beds shop  SEM_Sofas\n",
              "37          sofa beds               sofa beds sale  SEM_Sofas\n",
              "38          sofa beds             sofa beds budget  SEM_Sofas\n",
              "39          sofa beds              sofa beds cheap  SEM_Sofas"
            ],
            "text/html": [
              "\n",
              "  <div id=\"df-df014310-7120-4b26-83c5-170f4c40c95a\" class=\"colab-df-container\">\n",
              "    <div>\n",
              "<style scoped>\n",
              "    .dataframe tbody tr th:only-of-type {\n",
              "        vertical-align: middle;\n",
              "    }\n",
              "\n",
              "    .dataframe tbody tr th {\n",
              "        vertical-align: top;\n",
              "    }\n",
              "\n",
              "    .dataframe thead th {\n",
              "        text-align: right;\n",
              "    }\n",
              "</style>\n",
              "<table border=\"1\" class=\"dataframe\">\n",
              "  <thead>\n",
              "    <tr style=\"text-align: right;\">\n",
              "      <th></th>\n",
              "      <th>Ad Group</th>\n",
              "      <th>Keyword</th>\n",
              "      <th>Campaign</th>\n",
              "    </tr>\n",
              "  </thead>\n",
              "  <tbody>\n",
              "    <tr>\n",
              "      <th>0</th>\n",
              "      <td>sofas</td>\n",
              "      <td>sofas buy</td>\n",
              "      <td>SEM_Sofas</td>\n",
              "    </tr>\n",
              "    <tr>\n",
              "      <th>1</th>\n",
              "      <td>sofas</td>\n",
              "      <td>sofas price</td>\n",
              "      <td>SEM_Sofas</td>\n",
              "    </tr>\n",
              "    <tr>\n",
              "      <th>2</th>\n",
              "      <td>sofas</td>\n",
              "      <td>sofas discount</td>\n",
              "      <td>SEM_Sofas</td>\n",
              "    </tr>\n",
              "    <tr>\n",
              "      <th>3</th>\n",
              "      <td>sofas</td>\n",
              "      <td>sofas promotion</td>\n",
              "      <td>SEM_Sofas</td>\n",
              "    </tr>\n",
              "    <tr>\n",
              "      <th>4</th>\n",
              "      <td>sofas</td>\n",
              "      <td>sofas shop</td>\n",
              "      <td>SEM_Sofas</td>\n",
              "    </tr>\n",
              "    <tr>\n",
              "      <th>5</th>\n",
              "      <td>sofas</td>\n",
              "      <td>sofas sale</td>\n",
              "      <td>SEM_Sofas</td>\n",
              "    </tr>\n",
              "    <tr>\n",
              "      <th>6</th>\n",
              "      <td>sofas</td>\n",
              "      <td>sofas budget</td>\n",
              "      <td>SEM_Sofas</td>\n",
              "    </tr>\n",
              "    <tr>\n",
              "      <th>7</th>\n",
              "      <td>sofas</td>\n",
              "      <td>sofas cheap</td>\n",
              "      <td>SEM_Sofas</td>\n",
              "    </tr>\n",
              "    <tr>\n",
              "      <th>8</th>\n",
              "      <td>convertible sofas</td>\n",
              "      <td>convertible sofas buy</td>\n",
              "      <td>SEM_Sofas</td>\n",
              "    </tr>\n",
              "    <tr>\n",
              "      <th>9</th>\n",
              "      <td>convertible sofas</td>\n",
              "      <td>convertible sofas price</td>\n",
              "      <td>SEM_Sofas</td>\n",
              "    </tr>\n",
              "    <tr>\n",
              "      <th>10</th>\n",
              "      <td>convertible sofas</td>\n",
              "      <td>convertible sofas discount</td>\n",
              "      <td>SEM_Sofas</td>\n",
              "    </tr>\n",
              "    <tr>\n",
              "      <th>11</th>\n",
              "      <td>convertible sofas</td>\n",
              "      <td>convertible sofas promotion</td>\n",
              "      <td>SEM_Sofas</td>\n",
              "    </tr>\n",
              "    <tr>\n",
              "      <th>12</th>\n",
              "      <td>convertible sofas</td>\n",
              "      <td>convertible sofas shop</td>\n",
              "      <td>SEM_Sofas</td>\n",
              "    </tr>\n",
              "    <tr>\n",
              "      <th>13</th>\n",
              "      <td>convertible sofas</td>\n",
              "      <td>convertible sofas sale</td>\n",
              "      <td>SEM_Sofas</td>\n",
              "    </tr>\n",
              "    <tr>\n",
              "      <th>14</th>\n",
              "      <td>convertible sofas</td>\n",
              "      <td>convertible sofas budget</td>\n",
              "      <td>SEM_Sofas</td>\n",
              "    </tr>\n",
              "    <tr>\n",
              "      <th>15</th>\n",
              "      <td>convertible sofas</td>\n",
              "      <td>convertible sofas cheap</td>\n",
              "      <td>SEM_Sofas</td>\n",
              "    </tr>\n",
              "    <tr>\n",
              "      <th>16</th>\n",
              "      <td>love seats</td>\n",
              "      <td>love seats buy</td>\n",
              "      <td>SEM_Sofas</td>\n",
              "    </tr>\n",
              "    <tr>\n",
              "      <th>17</th>\n",
              "      <td>love seats</td>\n",
              "      <td>love seats price</td>\n",
              "      <td>SEM_Sofas</td>\n",
              "    </tr>\n",
              "    <tr>\n",
              "      <th>18</th>\n",
              "      <td>love seats</td>\n",
              "      <td>love seats discount</td>\n",
              "      <td>SEM_Sofas</td>\n",
              "    </tr>\n",
              "    <tr>\n",
              "      <th>19</th>\n",
              "      <td>love seats</td>\n",
              "      <td>love seats promotion</td>\n",
              "      <td>SEM_Sofas</td>\n",
              "    </tr>\n",
              "    <tr>\n",
              "      <th>20</th>\n",
              "      <td>love seats</td>\n",
              "      <td>love seats shop</td>\n",
              "      <td>SEM_Sofas</td>\n",
              "    </tr>\n",
              "    <tr>\n",
              "      <th>21</th>\n",
              "      <td>love seats</td>\n",
              "      <td>love seats sale</td>\n",
              "      <td>SEM_Sofas</td>\n",
              "    </tr>\n",
              "    <tr>\n",
              "      <th>22</th>\n",
              "      <td>love seats</td>\n",
              "      <td>love seats budget</td>\n",
              "      <td>SEM_Sofas</td>\n",
              "    </tr>\n",
              "    <tr>\n",
              "      <th>23</th>\n",
              "      <td>love seats</td>\n",
              "      <td>love seats cheap</td>\n",
              "      <td>SEM_Sofas</td>\n",
              "    </tr>\n",
              "    <tr>\n",
              "      <th>24</th>\n",
              "      <td>recliners</td>\n",
              "      <td>recliners buy</td>\n",
              "      <td>SEM_Sofas</td>\n",
              "    </tr>\n",
              "    <tr>\n",
              "      <th>25</th>\n",
              "      <td>recliners</td>\n",
              "      <td>recliners price</td>\n",
              "      <td>SEM_Sofas</td>\n",
              "    </tr>\n",
              "    <tr>\n",
              "      <th>26</th>\n",
              "      <td>recliners</td>\n",
              "      <td>recliners discount</td>\n",
              "      <td>SEM_Sofas</td>\n",
              "    </tr>\n",
              "    <tr>\n",
              "      <th>27</th>\n",
              "      <td>recliners</td>\n",
              "      <td>recliners promotion</td>\n",
              "      <td>SEM_Sofas</td>\n",
              "    </tr>\n",
              "    <tr>\n",
              "      <th>28</th>\n",
              "      <td>recliners</td>\n",
              "      <td>recliners shop</td>\n",
              "      <td>SEM_Sofas</td>\n",
              "    </tr>\n",
              "    <tr>\n",
              "      <th>29</th>\n",
              "      <td>recliners</td>\n",
              "      <td>recliners sale</td>\n",
              "      <td>SEM_Sofas</td>\n",
              "    </tr>\n",
              "    <tr>\n",
              "      <th>30</th>\n",
              "      <td>recliners</td>\n",
              "      <td>recliners budget</td>\n",
              "      <td>SEM_Sofas</td>\n",
              "    </tr>\n",
              "    <tr>\n",
              "      <th>31</th>\n",
              "      <td>recliners</td>\n",
              "      <td>recliners cheap</td>\n",
              "      <td>SEM_Sofas</td>\n",
              "    </tr>\n",
              "    <tr>\n",
              "      <th>32</th>\n",
              "      <td>sofa beds</td>\n",
              "      <td>sofa beds buy</td>\n",
              "      <td>SEM_Sofas</td>\n",
              "    </tr>\n",
              "    <tr>\n",
              "      <th>33</th>\n",
              "      <td>sofa beds</td>\n",
              "      <td>sofa beds price</td>\n",
              "      <td>SEM_Sofas</td>\n",
              "    </tr>\n",
              "    <tr>\n",
              "      <th>34</th>\n",
              "      <td>sofa beds</td>\n",
              "      <td>sofa beds discount</td>\n",
              "      <td>SEM_Sofas</td>\n",
              "    </tr>\n",
              "    <tr>\n",
              "      <th>35</th>\n",
              "      <td>sofa beds</td>\n",
              "      <td>sofa beds promotion</td>\n",
              "      <td>SEM_Sofas</td>\n",
              "    </tr>\n",
              "    <tr>\n",
              "      <th>36</th>\n",
              "      <td>sofa beds</td>\n",
              "      <td>sofa beds shop</td>\n",
              "      <td>SEM_Sofas</td>\n",
              "    </tr>\n",
              "    <tr>\n",
              "      <th>37</th>\n",
              "      <td>sofa beds</td>\n",
              "      <td>sofa beds sale</td>\n",
              "      <td>SEM_Sofas</td>\n",
              "    </tr>\n",
              "    <tr>\n",
              "      <th>38</th>\n",
              "      <td>sofa beds</td>\n",
              "      <td>sofa beds budget</td>\n",
              "      <td>SEM_Sofas</td>\n",
              "    </tr>\n",
              "    <tr>\n",
              "      <th>39</th>\n",
              "      <td>sofa beds</td>\n",
              "      <td>sofa beds cheap</td>\n",
              "      <td>SEM_Sofas</td>\n",
              "    </tr>\n",
              "  </tbody>\n",
              "</table>\n",
              "</div>\n",
              "    <div class=\"colab-df-buttons\">\n",
              "\n",
              "  <div class=\"colab-df-container\">\n",
              "    <button class=\"colab-df-convert\" onclick=\"convertToInteractive('df-df014310-7120-4b26-83c5-170f4c40c95a')\"\n",
              "            title=\"Convert this dataframe to an interactive table.\"\n",
              "            style=\"display:none;\">\n",
              "\n",
              "  <svg xmlns=\"http://www.w3.org/2000/svg\" height=\"24px\" viewBox=\"0 -960 960 960\">\n",
              "    <path d=\"M120-120v-720h720v720H120Zm60-500h600v-160H180v160Zm220 220h160v-160H400v160Zm0 220h160v-160H400v160ZM180-400h160v-160H180v160Zm440 0h160v-160H620v160ZM180-180h160v-160H180v160Zm440 0h160v-160H620v160Z\"/>\n",
              "  </svg>\n",
              "    </button>\n",
              "\n",
              "  <style>\n",
              "    .colab-df-container {\n",
              "      display:flex;\n",
              "      gap: 12px;\n",
              "    }\n",
              "\n",
              "    .colab-df-convert {\n",
              "      background-color: #E8F0FE;\n",
              "      border: none;\n",
              "      border-radius: 50%;\n",
              "      cursor: pointer;\n",
              "      display: none;\n",
              "      fill: #1967D2;\n",
              "      height: 32px;\n",
              "      padding: 0 0 0 0;\n",
              "      width: 32px;\n",
              "    }\n",
              "\n",
              "    .colab-df-convert:hover {\n",
              "      background-color: #E2EBFA;\n",
              "      box-shadow: 0px 1px 2px rgba(60, 64, 67, 0.3), 0px 1px 3px 1px rgba(60, 64, 67, 0.15);\n",
              "      fill: #174EA6;\n",
              "    }\n",
              "\n",
              "    .colab-df-buttons div {\n",
              "      margin-bottom: 4px;\n",
              "    }\n",
              "\n",
              "    [theme=dark] .colab-df-convert {\n",
              "      background-color: #3B4455;\n",
              "      fill: #D2E3FC;\n",
              "    }\n",
              "\n",
              "    [theme=dark] .colab-df-convert:hover {\n",
              "      background-color: #434B5C;\n",
              "      box-shadow: 0px 1px 3px 1px rgba(0, 0, 0, 0.15);\n",
              "      filter: drop-shadow(0px 1px 2px rgba(0, 0, 0, 0.3));\n",
              "      fill: #FFFFFF;\n",
              "    }\n",
              "  </style>\n",
              "\n",
              "    <script>\n",
              "      const buttonEl =\n",
              "        document.querySelector('#df-df014310-7120-4b26-83c5-170f4c40c95a button.colab-df-convert');\n",
              "      buttonEl.style.display =\n",
              "        google.colab.kernel.accessAllowed ? 'block' : 'none';\n",
              "\n",
              "      async function convertToInteractive(key) {\n",
              "        const element = document.querySelector('#df-df014310-7120-4b26-83c5-170f4c40c95a');\n",
              "        const dataTable =\n",
              "          await google.colab.kernel.invokeFunction('convertToInteractive',\n",
              "                                                    [key], {});\n",
              "        if (!dataTable) return;\n",
              "\n",
              "        const docLinkHtml = 'Like what you see? Visit the ' +\n",
              "          '<a target=\"_blank\" href=https://colab.research.google.com/notebooks/data_table.ipynb>data table notebook</a>'\n",
              "          + ' to learn more about interactive tables.';\n",
              "        element.innerHTML = '';\n",
              "        dataTable['output_type'] = 'display_data';\n",
              "        await google.colab.output.renderOutput(dataTable, element);\n",
              "        const docLink = document.createElement('div');\n",
              "        docLink.innerHTML = docLinkHtml;\n",
              "        element.appendChild(docLink);\n",
              "      }\n",
              "    </script>\n",
              "  </div>\n",
              "\n",
              "\n",
              "<div id=\"df-20b65918-bfe3-48e6-9b98-fb4ccd844cca\">\n",
              "  <button class=\"colab-df-quickchart\" onclick=\"quickchart('df-20b65918-bfe3-48e6-9b98-fb4ccd844cca')\"\n",
              "            title=\"Suggest charts\"\n",
              "            style=\"display:none;\">\n",
              "\n",
              "<svg xmlns=\"http://www.w3.org/2000/svg\" height=\"24px\"viewBox=\"0 0 24 24\"\n",
              "     width=\"24px\">\n",
              "    <g>\n",
              "        <path d=\"M19 3H5c-1.1 0-2 .9-2 2v14c0 1.1.9 2 2 2h14c1.1 0 2-.9 2-2V5c0-1.1-.9-2-2-2zM9 17H7v-7h2v7zm4 0h-2V7h2v10zm4 0h-2v-4h2v4z\"/>\n",
              "    </g>\n",
              "</svg>\n",
              "  </button>\n",
              "\n",
              "<style>\n",
              "  .colab-df-quickchart {\n",
              "      --bg-color: #E8F0FE;\n",
              "      --fill-color: #1967D2;\n",
              "      --hover-bg-color: #E2EBFA;\n",
              "      --hover-fill-color: #174EA6;\n",
              "      --disabled-fill-color: #AAA;\n",
              "      --disabled-bg-color: #DDD;\n",
              "  }\n",
              "\n",
              "  [theme=dark] .colab-df-quickchart {\n",
              "      --bg-color: #3B4455;\n",
              "      --fill-color: #D2E3FC;\n",
              "      --hover-bg-color: #434B5C;\n",
              "      --hover-fill-color: #FFFFFF;\n",
              "      --disabled-bg-color: #3B4455;\n",
              "      --disabled-fill-color: #666;\n",
              "  }\n",
              "\n",
              "  .colab-df-quickchart {\n",
              "    background-color: var(--bg-color);\n",
              "    border: none;\n",
              "    border-radius: 50%;\n",
              "    cursor: pointer;\n",
              "    display: none;\n",
              "    fill: var(--fill-color);\n",
              "    height: 32px;\n",
              "    padding: 0;\n",
              "    width: 32px;\n",
              "  }\n",
              "\n",
              "  .colab-df-quickchart:hover {\n",
              "    background-color: var(--hover-bg-color);\n",
              "    box-shadow: 0 1px 2px rgba(60, 64, 67, 0.3), 0 1px 3px 1px rgba(60, 64, 67, 0.15);\n",
              "    fill: var(--button-hover-fill-color);\n",
              "  }\n",
              "\n",
              "  .colab-df-quickchart-complete:disabled,\n",
              "  .colab-df-quickchart-complete:disabled:hover {\n",
              "    background-color: var(--disabled-bg-color);\n",
              "    fill: var(--disabled-fill-color);\n",
              "    box-shadow: none;\n",
              "  }\n",
              "\n",
              "  .colab-df-spinner {\n",
              "    border: 2px solid var(--fill-color);\n",
              "    border-color: transparent;\n",
              "    border-bottom-color: var(--fill-color);\n",
              "    animation:\n",
              "      spin 1s steps(1) infinite;\n",
              "  }\n",
              "\n",
              "  @keyframes spin {\n",
              "    0% {\n",
              "      border-color: transparent;\n",
              "      border-bottom-color: var(--fill-color);\n",
              "      border-left-color: var(--fill-color);\n",
              "    }\n",
              "    20% {\n",
              "      border-color: transparent;\n",
              "      border-left-color: var(--fill-color);\n",
              "      border-top-color: var(--fill-color);\n",
              "    }\n",
              "    30% {\n",
              "      border-color: transparent;\n",
              "      border-left-color: var(--fill-color);\n",
              "      border-top-color: var(--fill-color);\n",
              "      border-right-color: var(--fill-color);\n",
              "    }\n",
              "    40% {\n",
              "      border-color: transparent;\n",
              "      border-right-color: var(--fill-color);\n",
              "      border-top-color: var(--fill-color);\n",
              "    }\n",
              "    60% {\n",
              "      border-color: transparent;\n",
              "      border-right-color: var(--fill-color);\n",
              "    }\n",
              "    80% {\n",
              "      border-color: transparent;\n",
              "      border-right-color: var(--fill-color);\n",
              "      border-bottom-color: var(--fill-color);\n",
              "    }\n",
              "    90% {\n",
              "      border-color: transparent;\n",
              "      border-bottom-color: var(--fill-color);\n",
              "    }\n",
              "  }\n",
              "</style>\n",
              "\n",
              "  <script>\n",
              "    async function quickchart(key) {\n",
              "      const quickchartButtonEl =\n",
              "        document.querySelector('#' + key + ' button');\n",
              "      quickchartButtonEl.disabled = true;  // To prevent multiple clicks.\n",
              "      quickchartButtonEl.classList.add('colab-df-spinner');\n",
              "      try {\n",
              "        const charts = await google.colab.kernel.invokeFunction(\n",
              "            'suggestCharts', [key], {});\n",
              "      } catch (error) {\n",
              "        console.error('Error during call to suggestCharts:', error);\n",
              "      }\n",
              "      quickchartButtonEl.classList.remove('colab-df-spinner');\n",
              "      quickchartButtonEl.classList.add('colab-df-quickchart-complete');\n",
              "    }\n",
              "    (() => {\n",
              "      let quickchartButtonEl =\n",
              "        document.querySelector('#df-20b65918-bfe3-48e6-9b98-fb4ccd844cca button');\n",
              "      quickchartButtonEl.style.display =\n",
              "        google.colab.kernel.accessAllowed ? 'block' : 'none';\n",
              "    })();\n",
              "  </script>\n",
              "</div>\n",
              "    </div>\n",
              "  </div>\n"
            ],
            "application/vnd.google.colaboratory.intrinsic+json": {
              "type": "dataframe",
              "variable_name": "keywords_df",
              "summary": "{\n  \"name\": \"keywords_df\",\n  \"rows\": 40,\n  \"fields\": [\n    {\n      \"column\": \"Ad Group\",\n      \"properties\": {\n        \"dtype\": \"category\",\n        \"num_unique_values\": 5,\n        \"samples\": [\n          \"convertible sofas\",\n          \"sofa beds\",\n          \"love seats\"\n        ],\n        \"semantic_type\": \"\",\n        \"description\": \"\"\n      }\n    },\n    {\n      \"column\": \"Keyword\",\n      \"properties\": {\n        \"dtype\": \"string\",\n        \"num_unique_values\": 40,\n        \"samples\": [\n          \"love seats promotion\",\n          \"love seats buy\",\n          \"convertible sofas cheap\"\n        ],\n        \"semantic_type\": \"\",\n        \"description\": \"\"\n      }\n    },\n    {\n      \"column\": \"Campaign\",\n      \"properties\": {\n        \"dtype\": \"category\",\n        \"num_unique_values\": 1,\n        \"samples\": [\n          \"SEM_Sofas\"\n        ],\n        \"semantic_type\": \"\",\n        \"description\": \"\"\n      }\n    }\n  ]\n}"
            }
          },
          "metadata": {},
          "execution_count": 7
        }
      ]
    },
    {
      "source": [
        "## 6. Create the match type column\n",
        "<p>There are different keyword match types. One is exact match, which is for matching the exact term or are close variations of that exact term. Another match type is broad match, which means ads may show on searches that include misspellings, synonyms, related searches, and other relevant variations.</p>\n",
        "<p>Straight from Google's AdWords <a href=\"https://support.google.com/google-ads/answer/2497836?hl=en\">documentation</a>:</p>\n",
        "<blockquote>\n",
        "  <p>In general, the broader the match type, the more traffic potential that keyword will have, since your ads may be triggered more often. Conversely, a narrower match type means that your ads may show less often—but when they do, they’re likely to be more related to someone’s search.</p>\n",
        "</blockquote>\n",
        "<p>Since the client is tight on budget, we want to make sure all the keywords are in exact match at the beginning.</p>"
      ],
      "metadata": {
        "run_control": {
          "frozen": true
        },
        "dc": {
          "key": "39"
        },
        "tags": [
          "context"
        ],
        "id": "d6f682b1-307d-4bf8-a5c8-8a8ffe9fffcc"
      },
      "id": "d6f682b1-307d-4bf8-a5c8-8a8ffe9fffcc",
      "cell_type": "markdown"
    },
    {
      "source": [
        "# Add a criterion type column\n",
        "keywords_df['Criterion Type'] = 'Exact'\n"
      ],
      "metadata": {
        "trusted": true,
        "collapsed": true,
        "dc": {
          "key": "39"
        },
        "tags": [
          "sample_code"
        ],
        "jupyter": {
          "outputs_hidden": true
        },
        "id": "2a91c526-f502-4ec8-91d4-8ee5f8bad2b9"
      },
      "id": "2a91c526-f502-4ec8-91d4-8ee5f8bad2b9",
      "cell_type": "code",
      "execution_count": 8,
      "outputs": []
    },
    {
      "source": [
        "## 7. Duplicate all the keywords into 'phrase' match\n",
        "<p>The great thing about exact match is that it is very specific, and we can control the process very well. The tradeoff, however, is that:  </p>\n",
        "<ol>\n",
        "<li>The search volume for exact match is lower than other match types</li>\n",
        "<li>We can't possibly think of all the ways in which people search, and so, we are probably missing out on some high-quality keywords.</li>\n",
        "</ol>\n",
        "<p>So it's good to use another match called <em>phrase match</em> as a discovery mechanism to allow our ads to be triggered by keywords that include our exact match keywords, together with anything before (or after) them.</p>\n",
        "<p>Later on, when we launch the campaign, we can explore with modified broad match, broad match, and negative match types, for better visibility and control of our campaigns.</p>"
      ],
      "metadata": {
        "run_control": {
          "frozen": true
        },
        "dc": {
          "key": "46"
        },
        "tags": [
          "context"
        ],
        "id": "96ce91f3-e94a-4f4f-a596-3b94d28aee48"
      },
      "id": "96ce91f3-e94a-4f4f-a596-3b94d28aee48",
      "cell_type": "markdown"
    },
    {
      "source": [
        "# Make a copy of the keywords DataFrame\n",
        "keywords_phrase = keywords_df.copy()\n",
        "\n",
        "# Change criterion type match to phrase\n",
        "keywords_phrase['Criterion Type'] = 'Phrase'\n",
        "\n",
        "# Append the DataFrames\n",
        "keywords_df_final = pd.concat([keywords_df, keywords_phrase], ignore_index=True)\n"
      ],
      "metadata": {
        "trusted": true,
        "collapsed": true,
        "dc": {
          "key": "46"
        },
        "tags": [
          "sample_code"
        ],
        "jupyter": {
          "outputs_hidden": true
        },
        "id": "c7c95faa-59cd-460e-aa7a-6a6d8c8ff4ba"
      },
      "id": "c7c95faa-59cd-460e-aa7a-6a6d8c8ff4ba",
      "cell_type": "code",
      "execution_count": 9,
      "outputs": []
    },
    {
      "source": [
        "## 8. Save and summarize!\n",
        "<p>To upload our campaign, we need to save it as a CSV file. Then we will be able to import it to AdWords editor or BingAds editor. There is also the option of pasting the data into the editor if we want, but having easy access to the saved data is great so let's save to a CSV file!</p>\n",
        "<p>Looking at a summary of our campaign structure is good now that we've wrapped up our keyword work. We can do that by grouping by ad group and criterion type and counting by keyword. This summary shows us that we assigned specific keywords to specific ad groups, which are each part of a campaign. In essence, we are telling Google (or Bing, etc.) that we want any of the words in each ad group to trigger one of the ads in the same ad group. Separately, we will have to create another table for ads, which is a task for another day and would look something like this:</p>\n",
        "<table>\n",
        "<thead>\n",
        "<tr>\n",
        "<th>Campaign</th>\n",
        "<th>Ad Group</th>\n",
        "<th>Headline 1</th>\n",
        "<th>Headline 2</th>\n",
        "<th>Description</th>\n",
        "<th>Final URL</th>\n",
        "</tr>\n",
        "</thead>\n",
        "<tbody>\n",
        "<tr>\n",
        "<td>SEM_Sofas</td>\n",
        "<td>Sofas</td>\n",
        "<td>Looking for Quality Sofas?</td>\n",
        "<td>Explore Our Massive Collection</td>\n",
        "<td>30-day Returns With Free Delivery Within the US. Start Shopping Now</td>\n",
        "<td>DataCampSofas.com/sofas</td>\n",
        "</tr>\n",
        "<tr>\n",
        "<td>SEM_Sofas</td>\n",
        "<td>Sofas</td>\n",
        "<td>Looking for Affordable Sofas?</td>\n",
        "<td>Check Out Our Weekly Offers</td>\n",
        "<td>30-day Returns With Free Delivery Within the US. Start Shopping Now</td>\n",
        "<td>DataCampSofas.com/sofas</td>\n",
        "</tr>\n",
        "<tr>\n",
        "<td>SEM_Sofas</td>\n",
        "<td>Recliners</td>\n",
        "<td>Looking for Quality Recliners?</td>\n",
        "<td>Explore Our Massive Collection</td>\n",
        "<td>30-day Returns With Free Delivery Within the US. Start Shopping Now</td>\n",
        "<td>DataCampSofas.com/recliners</td>\n",
        "</tr>\n",
        "<tr>\n",
        "<td>SEM_Sofas</td>\n",
        "<td>Recliners</td>\n",
        "<td>Need Affordable Recliners?</td>\n",
        "<td>Check Out Our Weekly Offers</td>\n",
        "<td>30-day Returns With Free Delivery Within the US. Start Shopping Now</td>\n",
        "<td>DataCampSofas.com/recliners</td>\n",
        "</tr>\n",
        "</tbody>\n",
        "</table>\n",
        "<p>Together, these tables get us the sample <strong>keywords -> ads -> landing pages</strong> mapping shown in the diagram below.</p>\n",
        "<p><img src=\"https://assets.datacamp.com/production/project_400/img/kwds_ads_lpages.png\" alt=\"Keywords-Ads-Landing pages flow\"></p>"
      ],
      "metadata": {
        "run_control": {
          "frozen": true
        },
        "dc": {
          "key": "53"
        },
        "tags": [
          "context"
        ],
        "id": "362f2461-7c6e-4abc-8b54-349c337788ef"
      },
      "id": "362f2461-7c6e-4abc-8b54-349c337788ef",
      "cell_type": "markdown"
    },
    {
      "source": [
        "# Save the final keywords to a CSV file\n",
        "keywords_df_final.to_csv('keywords.csv', index=False)\n",
        "\n",
        "# View a summary of our campaign work\n",
        "summary = keywords_df_final.groupby(['Ad Group', 'Criterion Type'])['Keyword'].count()\n",
        "print(summary)\n"
      ],
      "metadata": {
        "trusted": true,
        "dc": {
          "key": "53"
        },
        "tags": [
          "sample_code"
        ],
        "outputsMetadata": {
          "0": {
            "height": 257,
            "type": "stream"
          }
        },
        "colab": {
          "base_uri": "https://localhost:8080/"
        },
        "id": "a75a4272-cd36-4ac5-a9ec-da23dee6614e",
        "outputId": "2b7d3f0d-ef44-4c4e-ff2c-7c67a1948f1d"
      },
      "id": "a75a4272-cd36-4ac5-a9ec-da23dee6614e",
      "cell_type": "code",
      "execution_count": 10,
      "outputs": [
        {
          "output_type": "stream",
          "name": "stdout",
          "text": [
            "Ad Group           Criterion Type\n",
            "convertible sofas  Exact             8\n",
            "                   Phrase            8\n",
            "love seats         Exact             8\n",
            "                   Phrase            8\n",
            "recliners          Exact             8\n",
            "                   Phrase            8\n",
            "sofa beds          Exact             8\n",
            "                   Phrase            8\n",
            "sofas              Exact             8\n",
            "                   Phrase            8\n",
            "Name: Keyword, dtype: int64\n"
          ]
        }
      ]
    }
  ],
  "metadata": {
    "kernelspec": {
      "display_name": "Python 3 (ipykernel)",
      "language": "python",
      "name": "python3"
    },
    "language_info": {
      "name": "python",
      "version": "3.8.10",
      "mimetype": "text/x-python",
      "codemirror_mode": {
        "name": "ipython",
        "version": 3
      },
      "pygments_lexer": "ipython3",
      "nbconvert_exporter": "python",
      "file_extension": ".py"
    },
    "editor": "DataCamp Workspace",
    "colab": {
      "provenance": [],
      "include_colab_link": true
    }
  },
  "nbformat": 4,
  "nbformat_minor": 5
}